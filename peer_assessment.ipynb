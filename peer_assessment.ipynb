{
 "cells": [
  {
   "cell_type": "markdown",
   "metadata": {},
   "source": [
    "# Peer Assessment Template"
   ]
  },
  {
   "cell_type": "markdown",
   "metadata": {},
   "source": [
    "In this notebook, you will include your peer assessments for **10** of your peers. You should assess all your group members and then assess additional peers from other groups until you have assessed 10 peers. \n",
    "\n",
    "For each presentation, you need to provide feedback on the presentation, and ask one thoughtful question about their research project. Your feedback should include a rating of Excellent, Good, Fair, or Poor in the categories of **Oral Presentation**, **Slides**, and **Overall Content**. Use the Presentation section of the Semester Project rubric to guide your ratings.\n",
    "\n",
    "Here are some example thoughtful questions:\n",
    "“Given your data, how likely is Michigan to be hit by a meteor in 2021?”\n",
    "“What are some of the assumptions in your model to estimate the time to view an object in the night sky?\n",
    "“Why do you think coffee quality is linked to moisture?”\n",
    "…\n",
    "\n",
    "Here are some less thoughtful/insightful questions:\n",
    "“Why do you like hockey games?”\n",
    "“What is Netflix?”\n",
    "“What is python?”\n",
    "…\n",
    "\n",
    "**Your Peer assessment grade will be based on completing your peer assessments and asking thoughtful questions!**\n",
    "\n",
    "Below is an example of what each of your peer assessments should look like:"
   ]
  },
  {
   "cell_type": "markdown",
   "metadata": {},
   "source": [
    "## Student Name: Dr. Frisbie\n",
    "\n",
    "### Project Title: Did Pandemic Shutdowns Increase Revenue for State or National Parks?\n",
    "\n",
    "**Oral Presentation:** Good\n",
    "\n",
    "**Slides:** Excellent\n",
    "\n",
    "**Content:** Good\n",
    "\n",
    "**My Question:** Do you think that sales of camping or exercise equipment also increased during shutdowns?\n",
    "\n",
    "**Additional Comments:** Dr. Frisbie did a good job presenting her work but could have been more clear about the different analyses she did."
   ]
  },
  {
   "cell_type": "markdown",
   "metadata": {},
   "source": [
    "## 1. Student Name: Jack Uekert\n",
    "\n",
    "### Project Title: Will the Detroit Lions win a game?\n",
    "\n",
    "**Oral Presentation:** Excellent\n",
    "\n",
    "**Slides:** Excellent\n",
    "\n",
    "**Content:** Excelent\n",
    "\n",
    "**My Question:** How was the model tested?\n",
    "\n",
    "**Additional Comments:** Jack forgot to include his prediction model"
   ]
  },
  {
   "cell_type": "markdown",
   "metadata": {},
   "source": [
    "*(Copy and paste the above template and repeat for your 9 other videos)*"
   ]
  },
  {
   "cell_type": "markdown",
   "metadata": {
    "collapsed": true
   },
   "source": [
    "## 2. Student Name: Zeynep Meral\n",
    "\n",
    "### Project Title: The effect of vaccination and COVID spread in Turkey and Ghana\n",
    "\n",
    "**Oral Presentation:** Good\n",
    "\n",
    "**Slides:** Good\n",
    "\n",
    "**Content:** Good\n",
    "\n",
    "**My Question:** What was your first hypothesis before your investigation?\n",
    "\n",
    "**Additional Comments:** Zeynep did a great job clearly showing its data."
   ]
  },
  {
   "cell_type": "markdown",
   "metadata": {},
   "source": [
    "## 3. Student Name: Sydney Stumpo\n",
    "\n",
    "### Project Title: Amazon Spending\n",
    "\n",
    "**Oral Presentation:** Good\n",
    "\n",
    "**Slides:** Good\n",
    "\n",
    "**Content:** Good\n",
    "\n",
    "**My Question:** Do you think Amazon making easier consumption affect personal finances?\n",
    "\n",
    "**Additional Comments:** Sydeny made a really good presentation"
   ]
  },
  {
   "cell_type": "markdown",
   "metadata": {},
   "source": [
    "## 4. Student Name: Jay Stransberry\n",
    "\n",
    "### Project Title: Clutch Performance in Baseball\n",
    "\n",
    "**Oral Presentation:** Good\n",
    "\n",
    "**Slides:** Good\n",
    "\n",
    "**Content:** Good\n",
    "\n",
    "**My Question:** Was your data from one season?\n",
    "\n",
    "**Additional Comments:** Jay solved the question really good"
   ]
  },
  {
   "cell_type": "markdown",
   "metadata": {},
   "source": [
    "## 5. Student Name: Frank Luginbill\n",
    "\n",
    "### Project Title: How does a shockwave from an explosion change over time?\n",
    "\n",
    "**Oral Presentation:** Excelent\n",
    "\n",
    "**Slides:** Excelent\n",
    "\n",
    "**Content:** Excelent\n",
    "\n",
    "**My Question:** Did you find it difficult to impletement the models/equations to your data?\n",
    "Did you use or analysed any datasets.\n",
    "\n",
    "**Additional Comments:** Frank did not include any data sets."
   ]
  },
  {
   "cell_type": "markdown",
   "metadata": {},
   "source": [
    "## 6. Student Name: Aniessa Marie\n",
    "\n",
    "### Project Title: Interest rates\n",
    "\n",
    "**Oral Presentation:** Good\n",
    "\n",
    "**Slides:** Good\n",
    "\n",
    "**Content:** Good\n",
    "\n",
    "**My Question:** What would be the best way to save?\n",
    "\n",
    "**Additional Comments:** The presentation was great overall"
   ]
  },
  {
   "cell_type": "markdown",
   "metadata": {},
   "source": [
    "## 7. Student Name: Teresa\n",
    "\n",
    "### Project Title: Vampires\n",
    "\n",
    "**Oral Presentation:** Good\n",
    "\n",
    "**Slides:** Good\n",
    "\n",
    "**Content:** Great\n",
    "\n",
    "**My Question:** Are there any variables that will reduce the spread of the infection\n",
    "\n",
    "**Additional Comments:** The model she used is great"
   ]
  },
  {
   "cell_type": "markdown",
   "metadata": {},
   "source": [
    "## 8. Student Name: Jacob Kaspar\n",
    "\n",
    "### Project Title: How good is Leo\n",
    "\n",
    "**Oral Presentation:** Great\n",
    "\n",
    "**Slides:** Great\n",
    "\n",
    "**Content:** Great\n",
    "\n",
    "**My Question:** How does the model work with 4 player in the game\n",
    "\n",
    "**Additional Comments:** Overall presentation was great"
   ]
  },
  {
   "cell_type": "markdown",
   "metadata": {},
   "source": [
    "## 9. Student Name: Yan Zhu\n",
    "\n",
    "### Project Title: Is there a correlation between unemployment and crime\n",
    "\n",
    "**Oral Presentation:** Great\n",
    "\n",
    "**Slides:** Excelent\n",
    "\n",
    "**Content:** Excelent\n",
    "\n",
    "**My Question:** Are there any outside factor other than unemploymenta that can cause an increase in crime\n",
    "\n",
    "**Additional Comments:** Everything was great"
   ]
  },
  {
   "cell_type": "markdown",
   "metadata": {},
   "source": [
    "## 10. Student Name: Rodrigo Lara\n",
    "\n",
    "### Project Title: Does NAFTA increased Mexico's obesity\n",
    "\n",
    "**Oral Presentation:** Great\n",
    "\n",
    "**Slides:** Great\n",
    "\n",
    "**Content:** Excelent\n",
    "\n",
    "**My Question:** What was your hypothesis before starting your research\n",
    "\n",
    "**Additional Comments:** Excelente Presentation"
   ]
  },
  {
   "cell_type": "code",
   "execution_count": null,
   "metadata": {},
   "outputs": [],
   "source": []
  }
 ],
 "metadata": {
  "anaconda-cloud": {},
  "kernelspec": {
   "display_name": "Python 3",
   "language": "python",
   "name": "python3"
  },
  "language_info": {
   "codemirror_mode": {
    "name": "ipython",
    "version": 3
   },
   "file_extension": ".py",
   "mimetype": "text/x-python",
   "name": "python",
   "nbconvert_exporter": "python",
   "pygments_lexer": "ipython3",
   "version": "3.8.8"
  }
 },
 "nbformat": 4,
 "nbformat_minor": 1
}
